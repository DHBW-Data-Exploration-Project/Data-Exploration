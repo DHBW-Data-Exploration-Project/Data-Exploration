{
 "cells": [
  {
   "cell_type": "markdown",
   "id": "58b0ebc7",
   "metadata": {},
   "source": [
    "# Data Preprocessing"
   ]
  },
  {
   "cell_type": "code",
   "execution_count": 1,
   "id": "c69f2ff2",
   "metadata": {},
   "outputs": [],
   "source": [
    "#import required libraries\n",
    "import pandas as pd\n",
    "import sklearn as sk\n",
    "import numpy as np\n",
    "import seaborn as sns\n",
    "import matplotlib.pyplot as plt"
   ]
  },
  {
   "cell_type": "code",
   "execution_count": 2,
   "id": "5fdcc087",
   "metadata": {},
   "outputs": [],
   "source": [
    "# reading datasets\n",
    "df_2018 = pd.read_csv(\"IT2018.csv\", sep=\",\")\n",
    "df_2019 = pd.read_csv(\"IT2019.csv\", sep=\",\")\n",
    "df_2020 = pd.read_csv(\"IT2020.csv\", sep=\",\")"
   ]
  },
  {
   "cell_type": "code",
   "execution_count": 3,
   "id": "d6778ae7",
   "metadata": {},
   "outputs": [
    {
     "data": {
      "text/plain": [
       "Index(['Timestamp', 'Age', 'Gender', 'City', 'Position', 'Years of experience',\n",
       "       'Your level', 'Current Salary', 'Salary one year ago',\n",
       "       'Salary two years ago', 'Are you getting any Stock Options?',\n",
       "       'Main language at work', 'Company size', 'Company type'],\n",
       "      dtype='object')"
      ]
     },
     "execution_count": 3,
     "metadata": {},
     "output_type": "execute_result"
    }
   ],
   "source": [
    "df_2018.columns"
   ]
  },
  {
   "cell_type": "code",
   "execution_count": 4,
   "id": "ff655535",
   "metadata": {},
   "outputs": [
    {
     "data": {
      "text/plain": [
       "Index(['Timestamp', 'Age', 'Gender', 'City', 'Seniority level',\n",
       "       'Position (without seniority)', 'Years of experience',\n",
       "       'Your main technology / programming language',\n",
       "       'Yearly brutto salary (without bonus and stocks)', 'Yearly bonus',\n",
       "       'Yearly stocks',\n",
       "       'Yearly brutto salary (without bonus and stocks) one year ago. Only answer if staying in same country',\n",
       "       'Yearly bonus one year ago. Only answer if staying in same country',\n",
       "       'Yearly stocks one year ago. Only answer if staying in same country',\n",
       "       'Number of vacation days', 'Number of home office days per month',\n",
       "       'Main language at work', 'Company name ', 'Company size',\n",
       "       'Company type', 'Сontract duration', 'Company business sector'],\n",
       "      dtype='object')"
      ]
     },
     "execution_count": 4,
     "metadata": {},
     "output_type": "execute_result"
    }
   ],
   "source": [
    "# drop column 0 that contains nothing\n",
    "df_2019 = df_2019.drop(columns=[\"0\"])\n",
    "# rename column to timestamp to have uniform column name\n",
    "df_2019.rename(columns = {\"Zeitstempel\":\"Timestamp\"}, inplace = True)\n",
    "df_2019.columns"
   ]
  },
  {
   "cell_type": "code",
   "execution_count": 5,
   "id": "67a31878",
   "metadata": {},
   "outputs": [
    {
     "data": {
      "text/plain": [
       "Index(['Timestamp', 'Age', 'Gender', 'City', 'Position ',\n",
       "       'Total years of experience', 'Years of experience in Germany',\n",
       "       'Seniority level', 'Your main technology / programming language',\n",
       "       'Other technologies/programming languages you use often',\n",
       "       'Yearly brutto salary (without bonus and stocks) in EUR',\n",
       "       'Yearly bonus + stocks in EUR',\n",
       "       'Annual brutto salary (without bonus and stocks) one year ago. Only answer if staying in the same country',\n",
       "       'Annual bonus+stocks one year ago. Only answer if staying in same country',\n",
       "       'Number of vacation days', 'Employment status', 'Сontract duration',\n",
       "       'Main language at work', 'Company size', 'Company type',\n",
       "       'Have you lost your job due to the coronavirus outbreak?',\n",
       "       'Have you been forced to have a shorter working week (Kurzarbeit)? If yes, how many hours per week',\n",
       "       'Have you received additional monetary support from your employer due to Work From Home? If yes, how much in 2020 in EUR'],\n",
       "      dtype='object')"
      ]
     },
     "execution_count": 5,
     "metadata": {},
     "output_type": "execute_result"
    }
   ],
   "source": [
    "df_2020.columns"
   ]
  },
  {
   "cell_type": "code",
   "execution_count": 6,
   "id": "e9fbaf72",
   "metadata": {},
   "outputs": [],
   "source": [
    "# rename same columns for easier inner merge\n",
    "df_2020 = df_2020.rename({'Yearly brutto salary (without bonus and stocks) in EUR': 'salary', \"Total years of experience\": 'yearsExperience'}, axis=1)\n",
    "df_2019 = df_2019.rename({'Yearly brutto salary (without bonus and stocks)': 'salary', \"Years of experience\": 'yearsExperience'}, axis=1)\n",
    "df_2018= df_2018.rename({\"Current Salary\": \"salary\", \"Years of experience\": 'yearsExperience', \"Your level\": \"Seniority level\"}, axis=1)"
   ]
  },
  {
   "cell_type": "code",
   "execution_count": null,
   "id": "d5485ed6",
   "metadata": {},
   "outputs": [],
   "source": []
  }
 ],
 "metadata": {
  "kernelspec": {
   "display_name": "Python 3 (ipykernel)",
   "language": "python",
   "name": "python3"
  },
  "language_info": {
   "codemirror_mode": {
    "name": "ipython",
    "version": 3
   },
   "file_extension": ".py",
   "mimetype": "text/x-python",
   "name": "python",
   "nbconvert_exporter": "python",
   "pygments_lexer": "ipython3",
   "version": "3.9.7"
  }
 },
 "nbformat": 4,
 "nbformat_minor": 5
}
