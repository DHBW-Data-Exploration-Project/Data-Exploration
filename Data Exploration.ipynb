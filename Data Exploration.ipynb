{
 "cells": [
  {
   "cell_type": "markdown",
   "id": "37dc21c3",
   "metadata": {},
   "source": [
    "### Data exploration"
   ]
  },
  {
   "cell_type": "code",
   "execution_count": 1,
   "id": "527fe6bb",
   "metadata": {},
   "outputs": [],
   "source": [
    "# import dependencies\n",
    "import pandas as pd\n",
    "import matplotlib.pyplot as plt\n",
    "import seaborn as sns"
   ]
  },
  {
   "cell_type": "code",
   "execution_count": 2,
   "id": "8d74fa48",
   "metadata": {},
   "outputs": [
    {
     "data": {
      "text/html": [
       "<div>\n",
       "<style scoped>\n",
       "    .dataframe tbody tr th:only-of-type {\n",
       "        vertical-align: middle;\n",
       "    }\n",
       "\n",
       "    .dataframe tbody tr th {\n",
       "        vertical-align: top;\n",
       "    }\n",
       "\n",
       "    .dataframe thead th {\n",
       "        text-align: right;\n",
       "    }\n",
       "</style>\n",
       "<table border=\"1\" class=\"dataframe\">\n",
       "  <thead>\n",
       "    <tr style=\"text-align: right;\">\n",
       "      <th></th>\n",
       "      <th>Unnamed: 0</th>\n",
       "      <th>Age</th>\n",
       "      <th>Gender</th>\n",
       "      <th>City</th>\n",
       "      <th>yearsExperience</th>\n",
       "      <th>SeniorityLevel</th>\n",
       "      <th>salary</th>\n",
       "      <th>MainLanguage</th>\n",
       "      <th>CompanySize</th>\n",
       "      <th>CompanyType</th>\n",
       "    </tr>\n",
       "  </thead>\n",
       "  <tbody>\n",
       "    <tr>\n",
       "      <th>0</th>\n",
       "      <td>0</td>\n",
       "      <td>43</td>\n",
       "      <td>M</td>\n",
       "      <td>München</td>\n",
       "      <td>11</td>\n",
       "      <td>Senior</td>\n",
       "      <td>77000</td>\n",
       "      <td>Deutsch</td>\n",
       "      <td>100-1000</td>\n",
       "      <td>Product</td>\n",
       "    </tr>\n",
       "    <tr>\n",
       "      <th>1</th>\n",
       "      <td>1</td>\n",
       "      <td>33</td>\n",
       "      <td>F</td>\n",
       "      <td>München</td>\n",
       "      <td>8</td>\n",
       "      <td>Senior</td>\n",
       "      <td>65000</td>\n",
       "      <td>Deutsch</td>\n",
       "      <td>50-100</td>\n",
       "      <td>Product</td>\n",
       "    </tr>\n",
       "    <tr>\n",
       "      <th>2</th>\n",
       "      <td>2</td>\n",
       "      <td>32</td>\n",
       "      <td>M</td>\n",
       "      <td>München</td>\n",
       "      <td>10</td>\n",
       "      <td>Senior</td>\n",
       "      <td>88000</td>\n",
       "      <td>Deutsch</td>\n",
       "      <td>1000+</td>\n",
       "      <td>Product</td>\n",
       "    </tr>\n",
       "    <tr>\n",
       "      <th>3</th>\n",
       "      <td>3</td>\n",
       "      <td>25</td>\n",
       "      <td>M</td>\n",
       "      <td>München</td>\n",
       "      <td>6</td>\n",
       "      <td>Senior</td>\n",
       "      <td>78000</td>\n",
       "      <td>English</td>\n",
       "      <td>1000+</td>\n",
       "      <td>Product</td>\n",
       "    </tr>\n",
       "    <tr>\n",
       "      <th>4</th>\n",
       "      <td>4</td>\n",
       "      <td>39</td>\n",
       "      <td>M</td>\n",
       "      <td>München</td>\n",
       "      <td>10</td>\n",
       "      <td>Senior</td>\n",
       "      <td>69000</td>\n",
       "      <td>English</td>\n",
       "      <td>100-1000</td>\n",
       "      <td>Ecom retailer</td>\n",
       "    </tr>\n",
       "  </tbody>\n",
       "</table>\n",
       "</div>"
      ],
      "text/plain": [
       "   Unnamed: 0  Age Gender     City  yearsExperience SeniorityLevel  salary  \\\n",
       "0           0   43      M  München               11         Senior   77000   \n",
       "1           1   33      F  München                8         Senior   65000   \n",
       "2           2   32      M  München               10         Senior   88000   \n",
       "3           3   25      M  München                6         Senior   78000   \n",
       "4           4   39      M  München               10         Senior   69000   \n",
       "\n",
       "  MainLanguage CompanySize    CompanyType  \n",
       "0      Deutsch    100-1000        Product  \n",
       "1      Deutsch      50-100        Product  \n",
       "2      Deutsch       1000+        Product  \n",
       "3      English       1000+        Product  \n",
       "4      English    100-1000  Ecom retailer  "
      ]
     },
     "execution_count": 2,
     "metadata": {},
     "output_type": "execute_result"
    }
   ],
   "source": [
    "df = pd.read_csv(\"mergedDF.csv\", sep=\",\")\n",
    "df.head()"
   ]
  },
  {
   "cell_type": "code",
   "execution_count": 3,
   "id": "9aa0bdf4",
   "metadata": {},
   "outputs": [
    {
     "data": {
      "text/html": [
       "<div>\n",
       "<style scoped>\n",
       "    .dataframe tbody tr th:only-of-type {\n",
       "        vertical-align: middle;\n",
       "    }\n",
       "\n",
       "    .dataframe tbody tr th {\n",
       "        vertical-align: top;\n",
       "    }\n",
       "\n",
       "    .dataframe thead th {\n",
       "        text-align: right;\n",
       "    }\n",
       "</style>\n",
       "<table border=\"1\" class=\"dataframe\">\n",
       "  <thead>\n",
       "    <tr style=\"text-align: right;\">\n",
       "      <th></th>\n",
       "      <th>Age</th>\n",
       "      <th>Gender</th>\n",
       "      <th>City</th>\n",
       "      <th>yearsExperience</th>\n",
       "      <th>SeniorityLevel</th>\n",
       "      <th>salary</th>\n",
       "      <th>MainLanguage</th>\n",
       "      <th>CompanySize</th>\n",
       "      <th>CompanyType</th>\n",
       "    </tr>\n",
       "  </thead>\n",
       "  <tbody>\n",
       "    <tr>\n",
       "      <th>0</th>\n",
       "      <td>43</td>\n",
       "      <td>M</td>\n",
       "      <td>München</td>\n",
       "      <td>11</td>\n",
       "      <td>Senior</td>\n",
       "      <td>77000</td>\n",
       "      <td>Deutsch</td>\n",
       "      <td>100-1000</td>\n",
       "      <td>Product</td>\n",
       "    </tr>\n",
       "    <tr>\n",
       "      <th>1</th>\n",
       "      <td>33</td>\n",
       "      <td>F</td>\n",
       "      <td>München</td>\n",
       "      <td>8</td>\n",
       "      <td>Senior</td>\n",
       "      <td>65000</td>\n",
       "      <td>Deutsch</td>\n",
       "      <td>50-100</td>\n",
       "      <td>Product</td>\n",
       "    </tr>\n",
       "    <tr>\n",
       "      <th>2</th>\n",
       "      <td>32</td>\n",
       "      <td>M</td>\n",
       "      <td>München</td>\n",
       "      <td>10</td>\n",
       "      <td>Senior</td>\n",
       "      <td>88000</td>\n",
       "      <td>Deutsch</td>\n",
       "      <td>1000+</td>\n",
       "      <td>Product</td>\n",
       "    </tr>\n",
       "    <tr>\n",
       "      <th>3</th>\n",
       "      <td>25</td>\n",
       "      <td>M</td>\n",
       "      <td>München</td>\n",
       "      <td>6</td>\n",
       "      <td>Senior</td>\n",
       "      <td>78000</td>\n",
       "      <td>English</td>\n",
       "      <td>1000+</td>\n",
       "      <td>Product</td>\n",
       "    </tr>\n",
       "    <tr>\n",
       "      <th>4</th>\n",
       "      <td>39</td>\n",
       "      <td>M</td>\n",
       "      <td>München</td>\n",
       "      <td>10</td>\n",
       "      <td>Senior</td>\n",
       "      <td>69000</td>\n",
       "      <td>English</td>\n",
       "      <td>100-1000</td>\n",
       "      <td>Ecom retailer</td>\n",
       "    </tr>\n",
       "  </tbody>\n",
       "</table>\n",
       "</div>"
      ],
      "text/plain": [
       "   Age Gender     City  yearsExperience SeniorityLevel  salary MainLanguage  \\\n",
       "0   43      M  München               11         Senior   77000      Deutsch   \n",
       "1   33      F  München                8         Senior   65000      Deutsch   \n",
       "2   32      M  München               10         Senior   88000      Deutsch   \n",
       "3   25      M  München                6         Senior   78000      English   \n",
       "4   39      M  München               10         Senior   69000      English   \n",
       "\n",
       "  CompanySize    CompanyType  \n",
       "0    100-1000        Product  \n",
       "1      50-100        Product  \n",
       "2       1000+        Product  \n",
       "3       1000+        Product  \n",
       "4    100-1000  Ecom retailer  "
      ]
     },
     "execution_count": 3,
     "metadata": {},
     "output_type": "execute_result"
    }
   ],
   "source": [
    "# remove index column\n",
    "df2 = df.drop(columns=['Unnamed: 0'])\n",
    "df2.head()"
   ]
  },
  {
   "cell_type": "markdown",
   "id": "c13d413a",
   "metadata": {},
   "source": [
    "### Cities"
   ]
  },
  {
   "cell_type": "code",
   "execution_count": 4,
   "id": "4cc67098",
   "metadata": {},
   "outputs": [
    {
     "data": {
      "image/png": "[encoded data removed]",
      "text/plain": [
       "<Figure size 1080x576 with 1 Axes>"
      ]
     },
     "metadata": {
      "needs_background": "light"
     },
     "output_type": "display_data"
    }
   ],
   "source": [
    "# bar cities\n",
    "plt.figure(figsize=(15,8))\n",
    "sns.barplot(data=df2['City'].value_counts().head(10).reset_index(),\n",
    "        y='index',x='City')\n",
    "plt.xticks(fontsize=13)\n",
    "plt.xlabel(\"Frequency\",fontsize=14)\n",
    "plt.yticks(fontsize=13)\n",
    "plt.ylabel(\"City\",fontsize=14)\n",
    "# plt.savefig('pie_cities.png')\n",
    "plt.show()"
   ]
  },
  {
   "cell_type": "code",
   "execution_count": 5,
   "id": "6e3cf663",
   "metadata": {
    "scrolled": true
   },
   "outputs": [
    {
     "data": {
      "image/png": "[encoded data removed]",
      "text/plain": [
       "<Figure size 1080x576 with 1 Axes>"
      ]
     },
     "metadata": {},
     "output_type": "display_data"
    }
   ],
   "source": [
    "# pie chart to top 5 cities\n",
    "plt.figure(figsize=(15,8))\n",
    "num_city = 5\n",
    "\n",
    "df2['City'].value_counts().iloc[:num_city].plot.pie(autopct=\"%1.2f%%\",fontsize=13,startangle=90,labels=['']*num_city,\n",
    "                                         cmap='Set2',explode=[0.05] * num_city,pctdistance=1.2)\n",
    "plt.ylabel(\"\")\n",
    "plt.legend(loc='upper left',labels=df2['City'].value_counts().iloc[:num_city].index)\n",
    "plt.savefig('pie_cities.png')\n",
    "plt.show()"
   ]
  },
  {
   "cell_type": "markdown",
   "id": "3a87e57e",
   "metadata": {},
   "source": [
    "Through the plot, you can see that most surveys participants are from Berlin. Furthermore most participants are living in Germany and only a small percentage are foreigners living in Europe like Amsterdam."
   ]
  },
  {
   "cell_type": "markdown",
   "id": "e4681438",
   "metadata": {},
   "source": [
    "### Companies types"
   ]
  },
  {
   "cell_type": "code",
   "execution_count": 6,
   "id": "e49c4cde",
   "metadata": {},
   "outputs": [],
   "source": [
    "# make df out of value counts\n",
    "df_cat = pd.DataFrame(df2[\"CompanyType\"].value_counts().reset_index().values, columns=[\"Company type\", \"Num\"])"
   ]
  },
  {
   "cell_type": "code",
   "execution_count": 7,
   "id": "21f86519",
   "metadata": {},
   "outputs": [
    {
     "data": {
      "text/html": [
       "<div>\n",
       "<style scoped>\n",
       "    .dataframe tbody tr th:only-of-type {\n",
       "        vertical-align: middle;\n",
       "    }\n",
       "\n",
       "    .dataframe tbody tr th {\n",
       "        vertical-align: top;\n",
       "    }\n",
       "\n",
       "    .dataframe thead th {\n",
       "        text-align: right;\n",
       "    }\n",
       "</style>\n",
       "<table border=\"1\" class=\"dataframe\">\n",
       "  <thead>\n",
       "    <tr style=\"text-align: right;\">\n",
       "      <th></th>\n",
       "      <th>Company type</th>\n",
       "      <th>Num</th>\n",
       "    </tr>\n",
       "  </thead>\n",
       "  <tbody>\n",
       "    <tr>\n",
       "      <th>0</th>\n",
       "      <td>Product</td>\n",
       "      <td>1608</td>\n",
       "    </tr>\n",
       "    <tr>\n",
       "      <th>1</th>\n",
       "      <td>Startup</td>\n",
       "      <td>511</td>\n",
       "    </tr>\n",
       "    <tr>\n",
       "      <th>2</th>\n",
       "      <td>Consulting / Agency</td>\n",
       "      <td>223</td>\n",
       "    </tr>\n",
       "    <tr>\n",
       "      <th>3</th>\n",
       "      <td>Agency</td>\n",
       "      <td>61</td>\n",
       "    </tr>\n",
       "    <tr>\n",
       "      <th>4</th>\n",
       "      <td>Bodyshop / Outsource</td>\n",
       "      <td>25</td>\n",
       "    </tr>\n",
       "  </tbody>\n",
       "</table>\n",
       "</div>"
      ],
      "text/plain": [
       "           Company type   Num\n",
       "0               Product  1608\n",
       "1               Startup   511\n",
       "2   Consulting / Agency   223\n",
       "3                Agency    61\n",
       "4  Bodyshop / Outsource    25"
      ]
     },
     "execution_count": 7,
     "metadata": {},
     "output_type": "execute_result"
    }
   ],
   "source": [
    "df_cat.head()"
   ]
  },
  {
   "cell_type": "code",
   "execution_count": 8,
   "id": "f9868837",
   "metadata": {
    "scrolled": true
   },
   "outputs": [
    {
     "data": {
      "text/html": [
       "<div>\n",
       "<style scoped>\n",
       "    .dataframe tbody tr th:only-of-type {\n",
       "        vertical-align: middle;\n",
       "    }\n",
       "\n",
       "    .dataframe tbody tr th {\n",
       "        vertical-align: top;\n",
       "    }\n",
       "\n",
       "    .dataframe thead th {\n",
       "        text-align: right;\n",
       "    }\n",
       "</style>\n",
       "<table border=\"1\" class=\"dataframe\">\n",
       "  <thead>\n",
       "    <tr style=\"text-align: right;\">\n",
       "      <th></th>\n",
       "      <th>Company type</th>\n",
       "      <th>Num</th>\n",
       "    </tr>\n",
       "  </thead>\n",
       "  <tbody>\n",
       "    <tr>\n",
       "      <th>0</th>\n",
       "      <td>Agency</td>\n",
       "      <td>61</td>\n",
       "    </tr>\n",
       "    <tr>\n",
       "      <th>1</th>\n",
       "      <td>Bodyshop / Outsource</td>\n",
       "      <td>25</td>\n",
       "    </tr>\n",
       "    <tr>\n",
       "      <th>2</th>\n",
       "      <td>Consulting / Agency</td>\n",
       "      <td>223</td>\n",
       "    </tr>\n",
       "    <tr>\n",
       "      <th>3</th>\n",
       "      <td>Other</td>\n",
       "      <td>127</td>\n",
       "    </tr>\n",
       "    <tr>\n",
       "      <th>4</th>\n",
       "      <td>Product</td>\n",
       "      <td>1608</td>\n",
       "    </tr>\n",
       "    <tr>\n",
       "      <th>5</th>\n",
       "      <td>Startup</td>\n",
       "      <td>511</td>\n",
       "    </tr>\n",
       "  </tbody>\n",
       "</table>\n",
       "</div>"
      ],
      "text/plain": [
       "           Company type   Num\n",
       "0                Agency    61\n",
       "1  Bodyshop / Outsource    25\n",
       "2   Consulting / Agency   223\n",
       "3                 Other   127\n",
       "4               Product  1608\n",
       "5               Startup   511"
      ]
     },
     "execution_count": 8,
     "metadata": {},
     "output_type": "execute_result"
    }
   ],
   "source": [
    "# group unrelevant company types as \"Other\"\n",
    "df_cat_group = df_cat.copy()\n",
    "# df.loc[\"row\", \"column\"]\n",
    "df_cat_group.loc[df_cat_group[\"Num\"] < 20, \"Company type\"] = \"Other\"\n",
    "df_cat_group_other = df_cat_group.groupby('Company type')['Num'].sum().reset_index()\n",
    "df_cat_group_other"
   ]
  },
  {
   "cell_type": "code",
   "execution_count": 9,
   "id": "0e9b10ab",
   "metadata": {
    "scrolled": true
   },
   "outputs": [
    {
     "data": {
      "image/png": "[encoded data removed]",
      "text/plain": [
       "<Figure size 1080x576 with 1 Axes>"
      ]
     },
     "metadata": {},
     "output_type": "display_data"
    }
   ],
   "source": [
    "plt.figure(figsize=(15,8))\n",
    "# explode is the distance between each pie pieces\n",
    "df_cat_group_other[\"Num\"].plot.pie(autopct=\"%1.2f%%\", fontsize=13, labels=[\"\"]*6,\n",
    "                                  cmap=\"Set2\", explode=[0.05] * 6, pctdistance=1.2)\n",
    "plt.ylabel(\"\")\n",
    "plt.legend(loc=\"upper left\", labels=df_cat_group_other[\"Company type\"])\n",
    "plt.show()"
   ]
  },
  {
   "cell_type": "markdown",
   "id": "f3bb20ce",
   "metadata": {},
   "source": [
    "Most people are working in a Product company. Surprisingly every fifth person works for a startup which could be lead back due to many participants living in Berlin and Berlin is a hotspot for startups"
   ]
  },
  {
   "cell_type": "markdown",
   "id": "4da336f7",
   "metadata": {},
   "source": [
    "### Company size"
   ]
  },
  {
   "cell_type": "code",
   "execution_count": 10,
   "id": "d2f15ceb",
   "metadata": {},
   "outputs": [
    {
     "data": {
      "image/png": "[encoded data removed]",
      "text/plain": [
       "<Figure size 1080x576 with 1 Axes>"
      ]
     },
     "metadata": {
      "needs_background": "light"
     },
     "output_type": "display_data"
    }
   ],
   "source": [
    "# Company size\n",
    "plt.figure(figsize=(15,8))\n",
    "sns.countplot(data=df2,x='CompanySize',\n",
    "              order=df2['CompanySize'].value_counts().index,\n",
    "              palette='Pastel2')\n",
    "plt.xticks(rotation=70,fontsize=13)\n",
    "plt.xlabel(\"Company size\",fontsize=14)\n",
    "plt.yticks(fontsize=13)\n",
    "plt.ylabel(\"Count\",fontsize=14)\n",
    "plt.show()"
   ]
  },
  {
   "cell_type": "markdown",
   "id": "e383ed7a",
   "metadata": {},
   "source": [
    "Most people work for a big company"
   ]
  },
  {
   "cell_type": "markdown",
   "id": "2ab77ebe",
   "metadata": {},
   "source": [
    "### Gender"
   ]
  },
  {
   "cell_type": "code",
   "execution_count": 11,
   "id": "61b9d7b8",
   "metadata": {},
   "outputs": [
    {
     "data": {
      "image/png": "[encoded data removed]",
      "text/plain": [
       "<Figure size 1080x576 with 1 Axes>"
      ]
     },
     "metadata": {},
     "output_type": "display_data"
    }
   ],
   "source": [
    "# Gender\n",
    "plt.figure(figsize=(15,8))\n",
    "\n",
    "df2['Gender'].value_counts().plot.pie(autopct=\"%1.2f%%\",fontsize=12,startangle=90,\n",
    "                                         cmap='crest',explode=[0.05] * 2,pctdistance=1.1,\n",
    "                                          labeldistance=1.3,textprops={'fontsize': 15})\n",
    "plt.ylabel(\"\")\n",
    "plt.show()"
   ]
  },
  {
   "cell_type": "markdown",
   "id": "2a917909",
   "metadata": {},
   "source": [
    "### Distribution of yearly salaries"
   ]
  },
  {
   "cell_type": "code",
   "execution_count": 12,
   "id": "35dccf37",
   "metadata": {},
   "outputs": [],
   "source": [
    "feature = 'salary'\n",
    "\n",
    "p25 = df2[feature].quantile(0.25) # 58800.0\n",
    "p75 = df2[feature].quantile(0.75) # 80000.0\n",
    "iqr = p75 - p25 # 21200.0\n",
    "\n",
    "upper_limit = p75 + 1.5 * iqr # 111800.0\n",
    "lower_limit = p25 - 1.5 * iqr # 27000.0\n",
    "\n",
    "# New DataFrame after removing the outlier \n",
    "new_df = df2[(df2[feature] > lower_limit) & (df2[feature] < upper_limit)]"
   ]
  },
  {
   "cell_type": "code",
   "execution_count": 13,
   "id": "59a3b950",
   "metadata": {},
   "outputs": [
    {
     "data": {
      "text/plain": [
       "Text(0, 0.5, 'Count')"
      ]
     },
     "execution_count": 13,
     "metadata": {},
     "output_type": "execute_result"
    },
    {
     "data": {
      "image/png": "[encoded data removed]",
      "text/plain": [
       "<Figure size 1080x576 with 1 Axes>"
      ]
     },
     "metadata": {
      "needs_background": "light"
     },
     "output_type": "display_data"
    }
   ],
   "source": [
    "plt.figure(figsize=(15,8))\n",
    "sns.histplot(new_df[feature])\n",
    "plt.xlabel(\"Yearly brutto salary in EUR\",fontsize=14)\n",
    "plt.ylabel(\"Count\",fontsize=14)\n",
    "# plt.savefig('salaryDistribution.png')"
   ]
  },
  {
   "cell_type": "markdown",
   "id": "921e5a1e",
   "metadata": {},
   "source": [
    "Through the plot, we can see that the salary is gaussian distributed. The median earns between 65000€ - 70000€. "
   ]
  }
 ],
 "metadata": {
  "kernelspec": {
   "display_name": "Python 3 (ipykernel)",
   "language": "python",
   "name": "python3"
  },
  "language_info": {
   "codemirror_mode": {
    "name": "ipython",
    "version": 3
   },
   "file_extension": ".py",
   "mimetype": "text/x-python",
   "name": "python",
   "nbconvert_exporter": "python",
   "pygments_lexer": "ipython3",
   "version": "3.9.7"
  }
 },
 "nbformat": 4,
 "nbformat_minor": 5
}
